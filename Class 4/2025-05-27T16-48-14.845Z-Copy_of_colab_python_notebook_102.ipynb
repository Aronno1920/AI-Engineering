{
  "nbformat": 4,
  "nbformat_minor": 0,
  "metadata": {
    "colab": {
      "provenance": []
    },
    "kernelspec": {
      "name": "python3",
      "display_name": "Python 3"
    },
    "language_info": {
      "name": "python"
    }
  },
  "cells": [
    {
      "cell_type": "code",
      "execution_count": null,
      "metadata": {
        "id": "mZA99qUhc-Cp"
      },
      "outputs": [],
      "source": []
    },
    {
      "cell_type": "markdown",
      "source": [
        " let's declare two variables which are numeric value type"
      ],
      "metadata": {
        "id": "8UEU9LnwfjYh"
      }
    },
    {
      "cell_type": "code",
      "source": [
        "p = 9\n",
        "q = 60"
      ],
      "metadata": {
        "id": "0K0iIsSfdFGJ"
      },
      "execution_count": null,
      "outputs": []
    },
    {
      "cell_type": "markdown",
      "source": [
        "# let's now perform substraction of those two variables declared earlier"
      ],
      "metadata": {
        "id": "ABzfVXqRf7iM"
      }
    },
    {
      "cell_type": "markdown",
      "source": [
        "**then perform another operation only if the previous task execution is successful**"
      ],
      "metadata": {
        "id": "PfzGGRQciLTq"
      }
    },
    {
      "cell_type": "code",
      "source": [
        "print(q-p)"
      ],
      "metadata": {
        "colab": {
          "base_uri": "https://localhost:8080/"
        },
        "id": "Gm7bOBTRdFIy",
        "outputId": "273b2e7a-4fcf-4e42-8133-e55d84e7c568"
      },
      "execution_count": null,
      "outputs": [
        {
          "output_type": "stream",
          "name": "stdout",
          "text": [
            "51\n"
          ]
        }
      ]
    },
    {
      "cell_type": "markdown",
      "source": [
        "**let's perform multiplication of those two declared variables**"
      ],
      "metadata": {
        "id": "EvUvszaFgKYC"
      }
    },
    {
      "cell_type": "code",
      "source": [
        "print(q*p)"
      ],
      "metadata": {
        "colab": {
          "base_uri": "https://localhost:8080/"
        },
        "id": "YJBcdQEWdFLI",
        "outputId": "937b310b-f414-41c4-9ad0-e18eb932e294"
      },
      "execution_count": null,
      "outputs": [
        {
          "output_type": "stream",
          "name": "stdout",
          "text": [
            "540\n"
          ]
        }
      ]
    },
    {
      "cell_type": "markdown",
      "source": [
        "*let's perform addition ot those two declated variables*"
      ],
      "metadata": {
        "id": "F686n0WhgaZB"
      }
    },
    {
      "cell_type": "code",
      "source": [
        "print(p+q)"
      ],
      "metadata": {
        "colab": {
          "base_uri": "https://localhost:8080/"
        },
        "id": "EWgNKcHfeSV5",
        "outputId": "6b31d994-dfc3-4806-fda9-8f339988efef"
      },
      "execution_count": null,
      "outputs": [
        {
          "output_type": "stream",
          "name": "stdout",
          "text": [
            "69\n"
          ]
        }
      ]
    },
    {
      "cell_type": "markdown",
      "source": [
        "#**performed some python operations (-,*,+) good to go till now**"
      ],
      "metadata": {
        "id": "X3dPORSNgkYb"
      }
    },
    {
      "cell_type": "code",
      "source": [],
      "metadata": {
        "id": "aGeaZjzJhmKI"
      },
      "execution_count": null,
      "outputs": []
    },
    {
      "cell_type": "markdown",
      "source": [
        "[Ai Bootcamp ](https://ostad.app/course/ai-engineering)"
      ],
      "metadata": {
        "id": "AJxRp853hF5p"
      }
    },
    {
      "cell_type": "markdown",
      "source": [
        "\n",
        "\n",
        "1.   first declare some variables\n",
        "2.   after that execute some operations one by one\n",
        "3.   Check the codes and save the file or download it\n",
        "\n",
        "\n",
        "\n"
      ],
      "metadata": {
        "id": "3kDmnk58hS4g"
      }
    },
    {
      "cell_type": "code",
      "source": [],
      "metadata": {
        "id": "RbdRMfolhlwC"
      },
      "execution_count": null,
      "outputs": []
    },
    {
      "cell_type": "markdown",
      "source": [
        "\n",
        "\n"
      ],
      "metadata": {
        "id": "Z9xVaNpWhv7I"
      }
    },
    {
      "cell_type": "markdown",
      "source": [
        "\n",
        "\n",
        "*   Step A\n",
        "*   Step B\n",
        "*   Step C\n",
        "\n"
      ],
      "metadata": {
        "id": "n1swdfTJhmwq"
      }
    }
  ]
}